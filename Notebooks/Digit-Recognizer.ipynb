{
 "cells": [
  {
   "cell_type": "markdown",
   "id": "bc180a59",
   "metadata": {
    "papermill": {
     "duration": 0.005207,
     "end_time": "2023-10-09T04:29:23.494038",
     "exception": false,
     "start_time": "2023-10-09T04:29:23.488831",
     "status": "completed"
    },
    "tags": []
   },
   "source": [
    "### Importing necessary libraries and frameworks"
   ]
  },
  {
   "cell_type": "code",
   "execution_count": 1,
   "id": "22e59b89",
   "metadata": {
    "execution": {
     "iopub.execute_input": "2023-10-09T04:29:23.505390Z",
     "iopub.status.busy": "2023-10-09T04:29:23.505098Z",
     "iopub.status.idle": "2023-10-09T04:29:36.340698Z",
     "shell.execute_reply": "2023-10-09T04:29:36.339724Z"
    },
    "papermill": {
     "duration": 12.844179,
     "end_time": "2023-10-09T04:29:36.343043",
     "exception": false,
     "start_time": "2023-10-09T04:29:23.498864",
     "status": "completed"
    },
    "tags": []
   },
   "outputs": [
    {
     "name": "stderr",
     "output_type": "stream",
     "text": [
      "/opt/conda/lib/python3.10/site-packages/scipy/__init__.py:146: UserWarning: A NumPy version >=1.16.5 and <1.23.0 is required for this version of SciPy (detected version 1.23.5\n",
      "  warnings.warn(f\"A NumPy version >={np_minversion} and <{np_maxversion}\"\n"
     ]
    }
   ],
   "source": [
    "import os\n",
    "import warnings\n",
    "import numpy as np\n",
    "import pandas as pd\n",
    "import matplotlib.pyplot as plt\n",
    "import seaborn as sns\n",
    "from sklearn import metrics\n",
    "\n",
    "import tensorflow as tf"
   ]
  },
  {
   "cell_type": "code",
   "execution_count": 2,
   "id": "f6fa8d1e",
   "metadata": {
    "execution": {
     "iopub.execute_input": "2023-10-09T04:29:36.355290Z",
     "iopub.status.busy": "2023-10-09T04:29:36.354764Z",
     "iopub.status.idle": "2023-10-09T04:29:36.359060Z",
     "shell.execute_reply": "2023-10-09T04:29:36.358186Z"
    },
    "papermill": {
     "duration": 0.012289,
     "end_time": "2023-10-09T04:29:36.360753",
     "exception": false,
     "start_time": "2023-10-09T04:29:36.348464",
     "status": "completed"
    },
    "tags": []
   },
   "outputs": [],
   "source": [
    "warnings.filterwarnings(\"ignore\")"
   ]
  },
  {
   "cell_type": "markdown",
   "id": "7b1b94cd",
   "metadata": {
    "papermill": {
     "duration": 0.004609,
     "end_time": "2023-10-09T04:29:36.370122",
     "exception": false,
     "start_time": "2023-10-09T04:29:36.365513",
     "status": "completed"
    },
    "tags": []
   },
   "source": [
    "### Collecting, Analyzing and Visualizing the Data"
   ]
  },
  {
   "cell_type": "code",
   "execution_count": 3,
   "id": "2fda8702",
   "metadata": {
    "execution": {
     "iopub.execute_input": "2023-10-09T04:29:36.381228Z",
     "iopub.status.busy": "2023-10-09T04:29:36.380396Z",
     "iopub.status.idle": "2023-10-09T04:29:36.388184Z",
     "shell.execute_reply": "2023-10-09T04:29:36.386870Z"
    },
    "papermill": {
     "duration": 0.014952,
     "end_time": "2023-10-09T04:29:36.389885",
     "exception": false,
     "start_time": "2023-10-09T04:29:36.374933",
     "status": "completed"
    },
    "tags": []
   },
   "outputs": [
    {
     "name": "stdout",
     "output_type": "stream",
     "text": [
      "/kaggle/input/digit-recognizer/sample_submission.csv\n",
      "/kaggle/input/digit-recognizer/train.csv\n",
      "/kaggle/input/digit-recognizer/test.csv\n"
     ]
    }
   ],
   "source": [
    "for dirname, _, filenames in os.walk('/kaggle/input'):\n",
    "    paths = []\n",
    "    for filename in filenames:\n",
    "        path = os.path.join(dirname, filename)\n",
    "        paths.append(path)\n",
    "        print(path)"
   ]
  },
  {
   "cell_type": "code",
   "execution_count": 4,
   "id": "0bb2e83d",
   "metadata": {
    "execution": {
     "iopub.execute_input": "2023-10-09T04:29:36.401022Z",
     "iopub.status.busy": "2023-10-09T04:29:36.400205Z",
     "iopub.status.idle": "2023-10-09T04:29:39.164521Z",
     "shell.execute_reply": "2023-10-09T04:29:39.163497Z"
    },
    "papermill": {
     "duration": 2.772036,
     "end_time": "2023-10-09T04:29:39.166794",
     "exception": false,
     "start_time": "2023-10-09T04:29:36.394758",
     "status": "completed"
    },
    "tags": []
   },
   "outputs": [],
   "source": [
    "df = pd.read_csv(paths[1])"
   ]
  },
  {
   "cell_type": "code",
   "execution_count": 5,
   "id": "28f7a960",
   "metadata": {
    "execution": {
     "iopub.execute_input": "2023-10-09T04:29:39.179326Z",
     "iopub.status.busy": "2023-10-09T04:29:39.179032Z",
     "iopub.status.idle": "2023-10-09T04:29:39.185514Z",
     "shell.execute_reply": "2023-10-09T04:29:39.184624Z"
    },
    "papermill": {
     "duration": 0.014795,
     "end_time": "2023-10-09T04:29:39.187337",
     "exception": false,
     "start_time": "2023-10-09T04:29:39.172542",
     "status": "completed"
    },
    "tags": []
   },
   "outputs": [
    {
     "data": {
      "text/plain": [
       "(42000, 785)"
      ]
     },
     "execution_count": 5,
     "metadata": {},
     "output_type": "execute_result"
    }
   ],
   "source": [
    "df.shape"
   ]
  },
  {
   "cell_type": "code",
   "execution_count": 6,
   "id": "cac907c5",
   "metadata": {
    "execution": {
     "iopub.execute_input": "2023-10-09T04:29:39.199514Z",
     "iopub.status.busy": "2023-10-09T04:29:39.199257Z",
     "iopub.status.idle": "2023-10-09T04:29:39.221749Z",
     "shell.execute_reply": "2023-10-09T04:29:39.220715Z"
    },
    "papermill": {
     "duration": 0.031036,
     "end_time": "2023-10-09T04:29:39.223965",
     "exception": false,
     "start_time": "2023-10-09T04:29:39.192929",
     "status": "completed"
    },
    "tags": []
   },
   "outputs": [
    {
     "data": {
      "text/html": [
       "<div>\n",
       "<style scoped>\n",
       "    .dataframe tbody tr th:only-of-type {\n",
       "        vertical-align: middle;\n",
       "    }\n",
       "\n",
       "    .dataframe tbody tr th {\n",
       "        vertical-align: top;\n",
       "    }\n",
       "\n",
       "    .dataframe thead th {\n",
       "        text-align: right;\n",
       "    }\n",
       "</style>\n",
       "<table border=\"1\" class=\"dataframe\">\n",
       "  <thead>\n",
       "    <tr style=\"text-align: right;\">\n",
       "      <th></th>\n",
       "      <th>label</th>\n",
       "      <th>pixel0</th>\n",
       "      <th>pixel1</th>\n",
       "      <th>pixel2</th>\n",
       "      <th>pixel3</th>\n",
       "      <th>pixel4</th>\n",
       "      <th>pixel5</th>\n",
       "      <th>pixel6</th>\n",
       "      <th>pixel7</th>\n",
       "      <th>pixel8</th>\n",
       "      <th>...</th>\n",
       "      <th>pixel774</th>\n",
       "      <th>pixel775</th>\n",
       "      <th>pixel776</th>\n",
       "      <th>pixel777</th>\n",
       "      <th>pixel778</th>\n",
       "      <th>pixel779</th>\n",
       "      <th>pixel780</th>\n",
       "      <th>pixel781</th>\n",
       "      <th>pixel782</th>\n",
       "      <th>pixel783</th>\n",
       "    </tr>\n",
       "  </thead>\n",
       "  <tbody>\n",
       "    <tr>\n",
       "      <th>0</th>\n",
       "      <td>1</td>\n",
       "      <td>0</td>\n",
       "      <td>0</td>\n",
       "      <td>0</td>\n",
       "      <td>0</td>\n",
       "      <td>0</td>\n",
       "      <td>0</td>\n",
       "      <td>0</td>\n",
       "      <td>0</td>\n",
       "      <td>0</td>\n",
       "      <td>...</td>\n",
       "      <td>0</td>\n",
       "      <td>0</td>\n",
       "      <td>0</td>\n",
       "      <td>0</td>\n",
       "      <td>0</td>\n",
       "      <td>0</td>\n",
       "      <td>0</td>\n",
       "      <td>0</td>\n",
       "      <td>0</td>\n",
       "      <td>0</td>\n",
       "    </tr>\n",
       "    <tr>\n",
       "      <th>1</th>\n",
       "      <td>0</td>\n",
       "      <td>0</td>\n",
       "      <td>0</td>\n",
       "      <td>0</td>\n",
       "      <td>0</td>\n",
       "      <td>0</td>\n",
       "      <td>0</td>\n",
       "      <td>0</td>\n",
       "      <td>0</td>\n",
       "      <td>0</td>\n",
       "      <td>...</td>\n",
       "      <td>0</td>\n",
       "      <td>0</td>\n",
       "      <td>0</td>\n",
       "      <td>0</td>\n",
       "      <td>0</td>\n",
       "      <td>0</td>\n",
       "      <td>0</td>\n",
       "      <td>0</td>\n",
       "      <td>0</td>\n",
       "      <td>0</td>\n",
       "    </tr>\n",
       "    <tr>\n",
       "      <th>2</th>\n",
       "      <td>1</td>\n",
       "      <td>0</td>\n",
       "      <td>0</td>\n",
       "      <td>0</td>\n",
       "      <td>0</td>\n",
       "      <td>0</td>\n",
       "      <td>0</td>\n",
       "      <td>0</td>\n",
       "      <td>0</td>\n",
       "      <td>0</td>\n",
       "      <td>...</td>\n",
       "      <td>0</td>\n",
       "      <td>0</td>\n",
       "      <td>0</td>\n",
       "      <td>0</td>\n",
       "      <td>0</td>\n",
       "      <td>0</td>\n",
       "      <td>0</td>\n",
       "      <td>0</td>\n",
       "      <td>0</td>\n",
       "      <td>0</td>\n",
       "    </tr>\n",
       "    <tr>\n",
       "      <th>3</th>\n",
       "      <td>4</td>\n",
       "      <td>0</td>\n",
       "      <td>0</td>\n",
       "      <td>0</td>\n",
       "      <td>0</td>\n",
       "      <td>0</td>\n",
       "      <td>0</td>\n",
       "      <td>0</td>\n",
       "      <td>0</td>\n",
       "      <td>0</td>\n",
       "      <td>...</td>\n",
       "      <td>0</td>\n",
       "      <td>0</td>\n",
       "      <td>0</td>\n",
       "      <td>0</td>\n",
       "      <td>0</td>\n",
       "      <td>0</td>\n",
       "      <td>0</td>\n",
       "      <td>0</td>\n",
       "      <td>0</td>\n",
       "      <td>0</td>\n",
       "    </tr>\n",
       "    <tr>\n",
       "      <th>4</th>\n",
       "      <td>0</td>\n",
       "      <td>0</td>\n",
       "      <td>0</td>\n",
       "      <td>0</td>\n",
       "      <td>0</td>\n",
       "      <td>0</td>\n",
       "      <td>0</td>\n",
       "      <td>0</td>\n",
       "      <td>0</td>\n",
       "      <td>0</td>\n",
       "      <td>...</td>\n",
       "      <td>0</td>\n",
       "      <td>0</td>\n",
       "      <td>0</td>\n",
       "      <td>0</td>\n",
       "      <td>0</td>\n",
       "      <td>0</td>\n",
       "      <td>0</td>\n",
       "      <td>0</td>\n",
       "      <td>0</td>\n",
       "      <td>0</td>\n",
       "    </tr>\n",
       "  </tbody>\n",
       "</table>\n",
       "<p>5 rows × 785 columns</p>\n",
       "</div>"
      ],
      "text/plain": [
       "   label  pixel0  pixel1  pixel2  pixel3  pixel4  pixel5  pixel6  pixel7  \\\n",
       "0      1       0       0       0       0       0       0       0       0   \n",
       "1      0       0       0       0       0       0       0       0       0   \n",
       "2      1       0       0       0       0       0       0       0       0   \n",
       "3      4       0       0       0       0       0       0       0       0   \n",
       "4      0       0       0       0       0       0       0       0       0   \n",
       "\n",
       "   pixel8  ...  pixel774  pixel775  pixel776  pixel777  pixel778  pixel779  \\\n",
       "0       0  ...         0         0         0         0         0         0   \n",
       "1       0  ...         0         0         0         0         0         0   \n",
       "2       0  ...         0         0         0         0         0         0   \n",
       "3       0  ...         0         0         0         0         0         0   \n",
       "4       0  ...         0         0         0         0         0         0   \n",
       "\n",
       "   pixel780  pixel781  pixel782  pixel783  \n",
       "0         0         0         0         0  \n",
       "1         0         0         0         0  \n",
       "2         0         0         0         0  \n",
       "3         0         0         0         0  \n",
       "4         0         0         0         0  \n",
       "\n",
       "[5 rows x 785 columns]"
      ]
     },
     "execution_count": 6,
     "metadata": {},
     "output_type": "execute_result"
    }
   ],
   "source": [
    "df.head()"
   ]
  },
  {
   "cell_type": "code",
   "execution_count": 7,
   "id": "1d7846c6",
   "metadata": {
    "execution": {
     "iopub.execute_input": "2023-10-09T04:29:39.237120Z",
     "iopub.status.busy": "2023-10-09T04:29:39.236861Z",
     "iopub.status.idle": "2023-10-09T04:29:39.250987Z",
     "shell.execute_reply": "2023-10-09T04:29:39.250009Z"
    },
    "papermill": {
     "duration": 0.022656,
     "end_time": "2023-10-09T04:29:39.252899",
     "exception": false,
     "start_time": "2023-10-09T04:29:39.230243",
     "status": "completed"
    },
    "tags": []
   },
   "outputs": [
    {
     "data": {
      "text/html": [
       "<div>\n",
       "<style scoped>\n",
       "    .dataframe tbody tr th:only-of-type {\n",
       "        vertical-align: middle;\n",
       "    }\n",
       "\n",
       "    .dataframe tbody tr th {\n",
       "        vertical-align: top;\n",
       "    }\n",
       "\n",
       "    .dataframe thead th {\n",
       "        text-align: right;\n",
       "    }\n",
       "</style>\n",
       "<table border=\"1\" class=\"dataframe\">\n",
       "  <thead>\n",
       "    <tr style=\"text-align: right;\">\n",
       "      <th></th>\n",
       "      <th>label</th>\n",
       "      <th>pixel0</th>\n",
       "      <th>pixel1</th>\n",
       "      <th>pixel2</th>\n",
       "      <th>pixel3</th>\n",
       "      <th>pixel4</th>\n",
       "      <th>pixel5</th>\n",
       "      <th>pixel6</th>\n",
       "      <th>pixel7</th>\n",
       "      <th>pixel8</th>\n",
       "      <th>...</th>\n",
       "      <th>pixel774</th>\n",
       "      <th>pixel775</th>\n",
       "      <th>pixel776</th>\n",
       "      <th>pixel777</th>\n",
       "      <th>pixel778</th>\n",
       "      <th>pixel779</th>\n",
       "      <th>pixel780</th>\n",
       "      <th>pixel781</th>\n",
       "      <th>pixel782</th>\n",
       "      <th>pixel783</th>\n",
       "    </tr>\n",
       "  </thead>\n",
       "  <tbody>\n",
       "    <tr>\n",
       "      <th>41995</th>\n",
       "      <td>0</td>\n",
       "      <td>0</td>\n",
       "      <td>0</td>\n",
       "      <td>0</td>\n",
       "      <td>0</td>\n",
       "      <td>0</td>\n",
       "      <td>0</td>\n",
       "      <td>0</td>\n",
       "      <td>0</td>\n",
       "      <td>0</td>\n",
       "      <td>...</td>\n",
       "      <td>0</td>\n",
       "      <td>0</td>\n",
       "      <td>0</td>\n",
       "      <td>0</td>\n",
       "      <td>0</td>\n",
       "      <td>0</td>\n",
       "      <td>0</td>\n",
       "      <td>0</td>\n",
       "      <td>0</td>\n",
       "      <td>0</td>\n",
       "    </tr>\n",
       "    <tr>\n",
       "      <th>41996</th>\n",
       "      <td>1</td>\n",
       "      <td>0</td>\n",
       "      <td>0</td>\n",
       "      <td>0</td>\n",
       "      <td>0</td>\n",
       "      <td>0</td>\n",
       "      <td>0</td>\n",
       "      <td>0</td>\n",
       "      <td>0</td>\n",
       "      <td>0</td>\n",
       "      <td>...</td>\n",
       "      <td>0</td>\n",
       "      <td>0</td>\n",
       "      <td>0</td>\n",
       "      <td>0</td>\n",
       "      <td>0</td>\n",
       "      <td>0</td>\n",
       "      <td>0</td>\n",
       "      <td>0</td>\n",
       "      <td>0</td>\n",
       "      <td>0</td>\n",
       "    </tr>\n",
       "    <tr>\n",
       "      <th>41997</th>\n",
       "      <td>7</td>\n",
       "      <td>0</td>\n",
       "      <td>0</td>\n",
       "      <td>0</td>\n",
       "      <td>0</td>\n",
       "      <td>0</td>\n",
       "      <td>0</td>\n",
       "      <td>0</td>\n",
       "      <td>0</td>\n",
       "      <td>0</td>\n",
       "      <td>...</td>\n",
       "      <td>0</td>\n",
       "      <td>0</td>\n",
       "      <td>0</td>\n",
       "      <td>0</td>\n",
       "      <td>0</td>\n",
       "      <td>0</td>\n",
       "      <td>0</td>\n",
       "      <td>0</td>\n",
       "      <td>0</td>\n",
       "      <td>0</td>\n",
       "    </tr>\n",
       "    <tr>\n",
       "      <th>41998</th>\n",
       "      <td>6</td>\n",
       "      <td>0</td>\n",
       "      <td>0</td>\n",
       "      <td>0</td>\n",
       "      <td>0</td>\n",
       "      <td>0</td>\n",
       "      <td>0</td>\n",
       "      <td>0</td>\n",
       "      <td>0</td>\n",
       "      <td>0</td>\n",
       "      <td>...</td>\n",
       "      <td>0</td>\n",
       "      <td>0</td>\n",
       "      <td>0</td>\n",
       "      <td>0</td>\n",
       "      <td>0</td>\n",
       "      <td>0</td>\n",
       "      <td>0</td>\n",
       "      <td>0</td>\n",
       "      <td>0</td>\n",
       "      <td>0</td>\n",
       "    </tr>\n",
       "    <tr>\n",
       "      <th>41999</th>\n",
       "      <td>9</td>\n",
       "      <td>0</td>\n",
       "      <td>0</td>\n",
       "      <td>0</td>\n",
       "      <td>0</td>\n",
       "      <td>0</td>\n",
       "      <td>0</td>\n",
       "      <td>0</td>\n",
       "      <td>0</td>\n",
       "      <td>0</td>\n",
       "      <td>...</td>\n",
       "      <td>0</td>\n",
       "      <td>0</td>\n",
       "      <td>0</td>\n",
       "      <td>0</td>\n",
       "      <td>0</td>\n",
       "      <td>0</td>\n",
       "      <td>0</td>\n",
       "      <td>0</td>\n",
       "      <td>0</td>\n",
       "      <td>0</td>\n",
       "    </tr>\n",
       "  </tbody>\n",
       "</table>\n",
       "<p>5 rows × 785 columns</p>\n",
       "</div>"
      ],
      "text/plain": [
       "       label  pixel0  pixel1  pixel2  pixel3  pixel4  pixel5  pixel6  pixel7  \\\n",
       "41995      0       0       0       0       0       0       0       0       0   \n",
       "41996      1       0       0       0       0       0       0       0       0   \n",
       "41997      7       0       0       0       0       0       0       0       0   \n",
       "41998      6       0       0       0       0       0       0       0       0   \n",
       "41999      9       0       0       0       0       0       0       0       0   \n",
       "\n",
       "       pixel8  ...  pixel774  pixel775  pixel776  pixel777  pixel778  \\\n",
       "41995       0  ...         0         0         0         0         0   \n",
       "41996       0  ...         0         0         0         0         0   \n",
       "41997       0  ...         0         0         0         0         0   \n",
       "41998       0  ...         0         0         0         0         0   \n",
       "41999       0  ...         0         0         0         0         0   \n",
       "\n",
       "       pixel779  pixel780  pixel781  pixel782  pixel783  \n",
       "41995         0         0         0         0         0  \n",
       "41996         0         0         0         0         0  \n",
       "41997         0         0         0         0         0  \n",
       "41998         0         0         0         0         0  \n",
       "41999         0         0         0         0         0  \n",
       "\n",
       "[5 rows x 785 columns]"
      ]
     },
     "execution_count": 7,
     "metadata": {},
     "output_type": "execute_result"
    }
   ],
   "source": [
    "df.tail()"
   ]
  },
  {
   "cell_type": "code",
   "execution_count": 8,
   "id": "bd180c40",
   "metadata": {
    "execution": {
     "iopub.execute_input": "2023-10-09T04:29:39.267239Z",
     "iopub.status.busy": "2023-10-09T04:29:39.266686Z",
     "iopub.status.idle": "2023-10-09T04:29:39.274874Z",
     "shell.execute_reply": "2023-10-09T04:29:39.273809Z"
    },
    "papermill": {
     "duration": 0.01774,
     "end_time": "2023-10-09T04:29:39.276901",
     "exception": false,
     "start_time": "2023-10-09T04:29:39.259161",
     "status": "completed"
    },
    "tags": []
   },
   "outputs": [
    {
     "data": {
      "text/plain": [
       "label       int64\n",
       "pixel0      int64\n",
       "pixel1      int64\n",
       "pixel2      int64\n",
       "pixel3      int64\n",
       "            ...  \n",
       "pixel779    int64\n",
       "pixel780    int64\n",
       "pixel781    int64\n",
       "pixel782    int64\n",
       "pixel783    int64\n",
       "Length: 785, dtype: object"
      ]
     },
     "execution_count": 8,
     "metadata": {},
     "output_type": "execute_result"
    }
   ],
   "source": [
    "df.dtypes"
   ]
  },
  {
   "cell_type": "code",
   "execution_count": 9,
   "id": "4605a469",
   "metadata": {
    "execution": {
     "iopub.execute_input": "2023-10-09T04:29:39.291554Z",
     "iopub.status.busy": "2023-10-09T04:29:39.291021Z",
     "iopub.status.idle": "2023-10-09T04:29:39.326834Z",
     "shell.execute_reply": "2023-10-09T04:29:39.325904Z"
    },
    "papermill": {
     "duration": 0.044908,
     "end_time": "2023-10-09T04:29:39.328524",
     "exception": false,
     "start_time": "2023-10-09T04:29:39.283616",
     "status": "completed"
    },
    "tags": []
   },
   "outputs": [
    {
     "name": "stdout",
     "output_type": "stream",
     "text": [
      "<class 'pandas.core.frame.DataFrame'>\n",
      "RangeIndex: 42000 entries, 0 to 41999\n",
      "Columns: 785 entries, label to pixel783\n",
      "dtypes: int64(785)\n",
      "memory usage: 251.5 MB\n"
     ]
    }
   ],
   "source": [
    "df.info()"
   ]
  },
  {
   "cell_type": "code",
   "execution_count": 10,
   "id": "bdadc1f6",
   "metadata": {
    "execution": {
     "iopub.execute_input": "2023-10-09T04:29:39.340968Z",
     "iopub.status.busy": "2023-10-09T04:29:39.340590Z",
     "iopub.status.idle": "2023-10-09T04:29:41.116628Z",
     "shell.execute_reply": "2023-10-09T04:29:41.115780Z"
    },
    "papermill": {
     "duration": 1.784003,
     "end_time": "2023-10-09T04:29:41.118340",
     "exception": false,
     "start_time": "2023-10-09T04:29:39.334337",
     "status": "completed"
    },
    "tags": []
   },
   "outputs": [
    {
     "data": {
      "text/html": [
       "<div>\n",
       "<style scoped>\n",
       "    .dataframe tbody tr th:only-of-type {\n",
       "        vertical-align: middle;\n",
       "    }\n",
       "\n",
       "    .dataframe tbody tr th {\n",
       "        vertical-align: top;\n",
       "    }\n",
       "\n",
       "    .dataframe thead th {\n",
       "        text-align: right;\n",
       "    }\n",
       "</style>\n",
       "<table border=\"1\" class=\"dataframe\">\n",
       "  <thead>\n",
       "    <tr style=\"text-align: right;\">\n",
       "      <th></th>\n",
       "      <th>label</th>\n",
       "      <th>pixel0</th>\n",
       "      <th>pixel1</th>\n",
       "      <th>pixel2</th>\n",
       "      <th>pixel3</th>\n",
       "      <th>pixel4</th>\n",
       "      <th>pixel5</th>\n",
       "      <th>pixel6</th>\n",
       "      <th>pixel7</th>\n",
       "      <th>pixel8</th>\n",
       "      <th>...</th>\n",
       "      <th>pixel774</th>\n",
       "      <th>pixel775</th>\n",
       "      <th>pixel776</th>\n",
       "      <th>pixel777</th>\n",
       "      <th>pixel778</th>\n",
       "      <th>pixel779</th>\n",
       "      <th>pixel780</th>\n",
       "      <th>pixel781</th>\n",
       "      <th>pixel782</th>\n",
       "      <th>pixel783</th>\n",
       "    </tr>\n",
       "  </thead>\n",
       "  <tbody>\n",
       "    <tr>\n",
       "      <th>count</th>\n",
       "      <td>42000.000000</td>\n",
       "      <td>42000.0</td>\n",
       "      <td>42000.0</td>\n",
       "      <td>42000.0</td>\n",
       "      <td>42000.0</td>\n",
       "      <td>42000.0</td>\n",
       "      <td>42000.0</td>\n",
       "      <td>42000.0</td>\n",
       "      <td>42000.0</td>\n",
       "      <td>42000.0</td>\n",
       "      <td>...</td>\n",
       "      <td>42000.000000</td>\n",
       "      <td>42000.000000</td>\n",
       "      <td>42000.000000</td>\n",
       "      <td>42000.00000</td>\n",
       "      <td>42000.000000</td>\n",
       "      <td>42000.000000</td>\n",
       "      <td>42000.0</td>\n",
       "      <td>42000.0</td>\n",
       "      <td>42000.0</td>\n",
       "      <td>42000.0</td>\n",
       "    </tr>\n",
       "    <tr>\n",
       "      <th>mean</th>\n",
       "      <td>4.456643</td>\n",
       "      <td>0.0</td>\n",
       "      <td>0.0</td>\n",
       "      <td>0.0</td>\n",
       "      <td>0.0</td>\n",
       "      <td>0.0</td>\n",
       "      <td>0.0</td>\n",
       "      <td>0.0</td>\n",
       "      <td>0.0</td>\n",
       "      <td>0.0</td>\n",
       "      <td>...</td>\n",
       "      <td>0.219286</td>\n",
       "      <td>0.117095</td>\n",
       "      <td>0.059024</td>\n",
       "      <td>0.02019</td>\n",
       "      <td>0.017238</td>\n",
       "      <td>0.002857</td>\n",
       "      <td>0.0</td>\n",
       "      <td>0.0</td>\n",
       "      <td>0.0</td>\n",
       "      <td>0.0</td>\n",
       "    </tr>\n",
       "    <tr>\n",
       "      <th>std</th>\n",
       "      <td>2.887730</td>\n",
       "      <td>0.0</td>\n",
       "      <td>0.0</td>\n",
       "      <td>0.0</td>\n",
       "      <td>0.0</td>\n",
       "      <td>0.0</td>\n",
       "      <td>0.0</td>\n",
       "      <td>0.0</td>\n",
       "      <td>0.0</td>\n",
       "      <td>0.0</td>\n",
       "      <td>...</td>\n",
       "      <td>6.312890</td>\n",
       "      <td>4.633819</td>\n",
       "      <td>3.274488</td>\n",
       "      <td>1.75987</td>\n",
       "      <td>1.894498</td>\n",
       "      <td>0.414264</td>\n",
       "      <td>0.0</td>\n",
       "      <td>0.0</td>\n",
       "      <td>0.0</td>\n",
       "      <td>0.0</td>\n",
       "    </tr>\n",
       "    <tr>\n",
       "      <th>min</th>\n",
       "      <td>0.000000</td>\n",
       "      <td>0.0</td>\n",
       "      <td>0.0</td>\n",
       "      <td>0.0</td>\n",
       "      <td>0.0</td>\n",
       "      <td>0.0</td>\n",
       "      <td>0.0</td>\n",
       "      <td>0.0</td>\n",
       "      <td>0.0</td>\n",
       "      <td>0.0</td>\n",
       "      <td>...</td>\n",
       "      <td>0.000000</td>\n",
       "      <td>0.000000</td>\n",
       "      <td>0.000000</td>\n",
       "      <td>0.00000</td>\n",
       "      <td>0.000000</td>\n",
       "      <td>0.000000</td>\n",
       "      <td>0.0</td>\n",
       "      <td>0.0</td>\n",
       "      <td>0.0</td>\n",
       "      <td>0.0</td>\n",
       "    </tr>\n",
       "    <tr>\n",
       "      <th>25%</th>\n",
       "      <td>2.000000</td>\n",
       "      <td>0.0</td>\n",
       "      <td>0.0</td>\n",
       "      <td>0.0</td>\n",
       "      <td>0.0</td>\n",
       "      <td>0.0</td>\n",
       "      <td>0.0</td>\n",
       "      <td>0.0</td>\n",
       "      <td>0.0</td>\n",
       "      <td>0.0</td>\n",
       "      <td>...</td>\n",
       "      <td>0.000000</td>\n",
       "      <td>0.000000</td>\n",
       "      <td>0.000000</td>\n",
       "      <td>0.00000</td>\n",
       "      <td>0.000000</td>\n",
       "      <td>0.000000</td>\n",
       "      <td>0.0</td>\n",
       "      <td>0.0</td>\n",
       "      <td>0.0</td>\n",
       "      <td>0.0</td>\n",
       "    </tr>\n",
       "    <tr>\n",
       "      <th>50%</th>\n",
       "      <td>4.000000</td>\n",
       "      <td>0.0</td>\n",
       "      <td>0.0</td>\n",
       "      <td>0.0</td>\n",
       "      <td>0.0</td>\n",
       "      <td>0.0</td>\n",
       "      <td>0.0</td>\n",
       "      <td>0.0</td>\n",
       "      <td>0.0</td>\n",
       "      <td>0.0</td>\n",
       "      <td>...</td>\n",
       "      <td>0.000000</td>\n",
       "      <td>0.000000</td>\n",
       "      <td>0.000000</td>\n",
       "      <td>0.00000</td>\n",
       "      <td>0.000000</td>\n",
       "      <td>0.000000</td>\n",
       "      <td>0.0</td>\n",
       "      <td>0.0</td>\n",
       "      <td>0.0</td>\n",
       "      <td>0.0</td>\n",
       "    </tr>\n",
       "    <tr>\n",
       "      <th>75%</th>\n",
       "      <td>7.000000</td>\n",
       "      <td>0.0</td>\n",
       "      <td>0.0</td>\n",
       "      <td>0.0</td>\n",
       "      <td>0.0</td>\n",
       "      <td>0.0</td>\n",
       "      <td>0.0</td>\n",
       "      <td>0.0</td>\n",
       "      <td>0.0</td>\n",
       "      <td>0.0</td>\n",
       "      <td>...</td>\n",
       "      <td>0.000000</td>\n",
       "      <td>0.000000</td>\n",
       "      <td>0.000000</td>\n",
       "      <td>0.00000</td>\n",
       "      <td>0.000000</td>\n",
       "      <td>0.000000</td>\n",
       "      <td>0.0</td>\n",
       "      <td>0.0</td>\n",
       "      <td>0.0</td>\n",
       "      <td>0.0</td>\n",
       "    </tr>\n",
       "    <tr>\n",
       "      <th>max</th>\n",
       "      <td>9.000000</td>\n",
       "      <td>0.0</td>\n",
       "      <td>0.0</td>\n",
       "      <td>0.0</td>\n",
       "      <td>0.0</td>\n",
       "      <td>0.0</td>\n",
       "      <td>0.0</td>\n",
       "      <td>0.0</td>\n",
       "      <td>0.0</td>\n",
       "      <td>0.0</td>\n",
       "      <td>...</td>\n",
       "      <td>254.000000</td>\n",
       "      <td>254.000000</td>\n",
       "      <td>253.000000</td>\n",
       "      <td>253.00000</td>\n",
       "      <td>254.000000</td>\n",
       "      <td>62.000000</td>\n",
       "      <td>0.0</td>\n",
       "      <td>0.0</td>\n",
       "      <td>0.0</td>\n",
       "      <td>0.0</td>\n",
       "    </tr>\n",
       "  </tbody>\n",
       "</table>\n",
       "<p>8 rows × 785 columns</p>\n",
       "</div>"
      ],
      "text/plain": [
       "              label   pixel0   pixel1   pixel2   pixel3   pixel4   pixel5  \\\n",
       "count  42000.000000  42000.0  42000.0  42000.0  42000.0  42000.0  42000.0   \n",
       "mean       4.456643      0.0      0.0      0.0      0.0      0.0      0.0   \n",
       "std        2.887730      0.0      0.0      0.0      0.0      0.0      0.0   \n",
       "min        0.000000      0.0      0.0      0.0      0.0      0.0      0.0   \n",
       "25%        2.000000      0.0      0.0      0.0      0.0      0.0      0.0   \n",
       "50%        4.000000      0.0      0.0      0.0      0.0      0.0      0.0   \n",
       "75%        7.000000      0.0      0.0      0.0      0.0      0.0      0.0   \n",
       "max        9.000000      0.0      0.0      0.0      0.0      0.0      0.0   \n",
       "\n",
       "        pixel6   pixel7   pixel8  ...      pixel774      pixel775  \\\n",
       "count  42000.0  42000.0  42000.0  ...  42000.000000  42000.000000   \n",
       "mean       0.0      0.0      0.0  ...      0.219286      0.117095   \n",
       "std        0.0      0.0      0.0  ...      6.312890      4.633819   \n",
       "min        0.0      0.0      0.0  ...      0.000000      0.000000   \n",
       "25%        0.0      0.0      0.0  ...      0.000000      0.000000   \n",
       "50%        0.0      0.0      0.0  ...      0.000000      0.000000   \n",
       "75%        0.0      0.0      0.0  ...      0.000000      0.000000   \n",
       "max        0.0      0.0      0.0  ...    254.000000    254.000000   \n",
       "\n",
       "           pixel776     pixel777      pixel778      pixel779  pixel780  \\\n",
       "count  42000.000000  42000.00000  42000.000000  42000.000000   42000.0   \n",
       "mean       0.059024      0.02019      0.017238      0.002857       0.0   \n",
       "std        3.274488      1.75987      1.894498      0.414264       0.0   \n",
       "min        0.000000      0.00000      0.000000      0.000000       0.0   \n",
       "25%        0.000000      0.00000      0.000000      0.000000       0.0   \n",
       "50%        0.000000      0.00000      0.000000      0.000000       0.0   \n",
       "75%        0.000000      0.00000      0.000000      0.000000       0.0   \n",
       "max      253.000000    253.00000    254.000000     62.000000       0.0   \n",
       "\n",
       "       pixel781  pixel782  pixel783  \n",
       "count   42000.0   42000.0   42000.0  \n",
       "mean        0.0       0.0       0.0  \n",
       "std         0.0       0.0       0.0  \n",
       "min         0.0       0.0       0.0  \n",
       "25%         0.0       0.0       0.0  \n",
       "50%         0.0       0.0       0.0  \n",
       "75%         0.0       0.0       0.0  \n",
       "max         0.0       0.0       0.0  \n",
       "\n",
       "[8 rows x 785 columns]"
      ]
     },
     "execution_count": 10,
     "metadata": {},
     "output_type": "execute_result"
    }
   ],
   "source": [
    "df.describe()"
   ]
  },
  {
   "cell_type": "code",
   "execution_count": 11,
   "id": "e01d36af",
   "metadata": {
    "execution": {
     "iopub.execute_input": "2023-10-09T04:29:41.131272Z",
     "iopub.status.busy": "2023-10-09T04:29:41.130997Z",
     "iopub.status.idle": "2023-10-09T04:29:41.137558Z",
     "shell.execute_reply": "2023-10-09T04:29:41.136713Z"
    },
    "papermill": {
     "duration": 0.015037,
     "end_time": "2023-10-09T04:29:41.139263",
     "exception": false,
     "start_time": "2023-10-09T04:29:41.124226",
     "status": "completed"
    },
    "tags": []
   },
   "outputs": [
    {
     "data": {
      "text/plain": [
       "label\n",
       "1    4684\n",
       "7    4401\n",
       "3    4351\n",
       "9    4188\n",
       "2    4177\n",
       "6    4137\n",
       "0    4132\n",
       "4    4072\n",
       "8    4063\n",
       "5    3795\n",
       "Name: count, dtype: int64"
      ]
     },
     "execution_count": 11,
     "metadata": {},
     "output_type": "execute_result"
    }
   ],
   "source": [
    "df['label'].value_counts()"
   ]
  },
  {
   "cell_type": "code",
   "execution_count": 12,
   "id": "5dce7046",
   "metadata": {
    "execution": {
     "iopub.execute_input": "2023-10-09T04:29:41.151897Z",
     "iopub.status.busy": "2023-10-09T04:29:41.151669Z",
     "iopub.status.idle": "2023-10-09T04:29:41.403991Z",
     "shell.execute_reply": "2023-10-09T04:29:41.403123Z"
    },
    "papermill": {
     "duration": 0.261427,
     "end_time": "2023-10-09T04:29:41.406439",
     "exception": false,
     "start_time": "2023-10-09T04:29:41.145012",
     "status": "completed"
    },
    "tags": []
   },
   "outputs": [
    {
     "data": {
      "image/png": "[encoded data removed]",
      "text/plain": [
       "<Figure size 640x480 with 1 Axes>"
      ]
     },
     "metadata": {},
     "output_type": "display_data"
    }
   ],
   "source": [
    "sns.histplot(x = 'label', data = df, bins = len(np.unique(df['label'])))\n",
    "plt.show()"
   ]
  },
  {
   "cell_type": "code",
   "execution_count": 13,
   "id": "3bb81a10",
   "metadata": {
    "execution": {
     "iopub.execute_input": "2023-10-09T04:29:41.422147Z",
     "iopub.status.busy": "2023-10-09T04:29:41.421853Z",
     "iopub.status.idle": "2023-10-09T04:29:41.503871Z",
     "shell.execute_reply": "2023-10-09T04:29:41.502969Z"
    },
    "papermill": {
     "duration": 0.09179,
     "end_time": "2023-10-09T04:29:41.505636",
     "exception": false,
     "start_time": "2023-10-09T04:29:41.413846",
     "status": "completed"
    },
    "tags": []
   },
   "outputs": [],
   "source": [
    "X_train = df.drop('label', axis = 1).values\n",
    "y_train = df['label'].values"
   ]
  },
  {
   "cell_type": "code",
   "execution_count": 14,
   "id": "1f56f565",
   "metadata": {
    "execution": {
     "iopub.execute_input": "2023-10-09T04:29:41.519880Z",
     "iopub.status.busy": "2023-10-09T04:29:41.519609Z",
     "iopub.status.idle": "2023-10-09T04:29:42.511757Z",
     "shell.execute_reply": "2023-10-09T04:29:42.510871Z"
    },
    "papermill": {
     "duration": 1.000876,
     "end_time": "2023-10-09T04:29:42.513467",
     "exception": false,
     "start_time": "2023-10-09T04:29:41.512591",
     "status": "completed"
    },
    "tags": []
   },
   "outputs": [
    {
     "name": "stdout",
     "output_type": "stream",
     "text": [
      "1\n"
     ]
    },
    {
     "data": {
      "image/png": "[encoded data removed]",
      "text/plain": [
       "<Figure size 640x480 with 1 Axes>"
      ]
     },
     "metadata": {},
     "output_type": "display_data"
    },
    {
     "name": "stdout",
     "output_type": "stream",
     "text": [
      "0\n"
     ]
    },
    {
     "data": {
      "image/png": "[encoded data removed]",
      "text/plain": [
       "<Figure size 640x480 with 1 Axes>"
      ]
     },
     "metadata": {},
     "output_type": "display_data"
    },
    {
     "name": "stdout",
     "output_type": "stream",
     "text": [
      "1\n"
     ]
    },
    {
     "data": {
      "image/png": "[encoded data removed]",
      "text/plain": [
       "<Figure size 640x480 with 1 Axes>"
      ]
     },
     "metadata": {},
     "output_type": "display_data"
    },
    {
     "name": "stdout",
     "output_type": "stream",
     "text": [
      "4\n"
     ]
    },
    {
     "data": {
      "image/png": "[encoded data removed]",
      "text/plain": [
       "<Figure size 640x480 with 1 Axes>"
      ]
     },
     "metadata": {},
     "output_type": "display_data"
    },
    {
     "name": "stdout",
     "output_type": "stream",
     "text": [
      "0\n"
     ]
    },
    {
     "data": {
      "image/png": "[encoded data removed]",
      "text/plain": [
       "<Figure size 640x480 with 1 Axes>"
      ]
     },
     "metadata": {},
     "output_type": "display_data"
    }
   ],
   "source": [
    "for idx, x in enumerate(X_train[:5]):\n",
    "    img = x.reshape(28, 28)\n",
    "    print(y_train[idx])\n",
    "    plt.gray()\n",
    "    plt.imshow(img)\n",
    "    plt.show()"
   ]
  },
  {
   "cell_type": "code",
   "execution_count": 15,
   "id": "e25b241a",
   "metadata": {
    "execution": {
     "iopub.execute_input": "2023-10-09T04:29:42.529586Z",
     "iopub.status.busy": "2023-10-09T04:29:42.528836Z",
     "iopub.status.idle": "2023-10-09T04:29:42.533476Z",
     "shell.execute_reply": "2023-10-09T04:29:42.532698Z"
    },
    "papermill": {
     "duration": 0.014394,
     "end_time": "2023-10-09T04:29:42.535137",
     "exception": false,
     "start_time": "2023-10-09T04:29:42.520743",
     "status": "completed"
    },
    "tags": []
   },
   "outputs": [],
   "source": [
    "X_train = X_train.reshape(X_train.shape[0], 28, 28, 1)"
   ]
  },
  {
   "cell_type": "code",
   "execution_count": 16,
   "id": "e1eb7ff4",
   "metadata": {
    "execution": {
     "iopub.execute_input": "2023-10-09T04:29:42.550660Z",
     "iopub.status.busy": "2023-10-09T04:29:42.549922Z",
     "iopub.status.idle": "2023-10-09T04:29:42.555730Z",
     "shell.execute_reply": "2023-10-09T04:29:42.554869Z"
    },
    "papermill": {
     "duration": 0.015267,
     "end_time": "2023-10-09T04:29:42.557350",
     "exception": false,
     "start_time": "2023-10-09T04:29:42.542083",
     "status": "completed"
    },
    "tags": []
   },
   "outputs": [
    {
     "data": {
      "text/plain": [
       "(42000, 28, 28, 1)"
      ]
     },
     "execution_count": 16,
     "metadata": {},
     "output_type": "execute_result"
    }
   ],
   "source": [
    "X_train.shape"
   ]
  },
  {
   "cell_type": "code",
   "execution_count": 17,
   "id": "029bdff0",
   "metadata": {
    "execution": {
     "iopub.execute_input": "2023-10-09T04:29:42.572773Z",
     "iopub.status.busy": "2023-10-09T04:29:42.572192Z",
     "iopub.status.idle": "2023-10-09T04:29:42.675680Z",
     "shell.execute_reply": "2023-10-09T04:29:42.674708Z"
    },
    "papermill": {
     "duration": 0.113465,
     "end_time": "2023-10-09T04:29:42.677850",
     "exception": false,
     "start_time": "2023-10-09T04:29:42.564385",
     "status": "completed"
    },
    "tags": []
   },
   "outputs": [],
   "source": [
    "# Scaling the features\n",
    "\n",
    "X_train = X_train / 255"
   ]
  },
  {
   "cell_type": "markdown",
   "id": "dc223dbf",
   "metadata": {
    "papermill": {
     "duration": 0.007016,
     "end_time": "2023-10-09T04:29:42.693145",
     "exception": false,
     "start_time": "2023-10-09T04:29:42.686129",
     "status": "completed"
    },
    "tags": []
   },
   "source": [
    "### Training the Model ( CNN )"
   ]
  },
  {
   "cell_type": "code",
   "execution_count": 18,
   "id": "f8edc318",
   "metadata": {
    "execution": {
     "iopub.execute_input": "2023-10-09T04:29:42.708969Z",
     "iopub.status.busy": "2023-10-09T04:29:42.708166Z",
     "iopub.status.idle": "2023-10-09T04:31:08.516553Z",
     "shell.execute_reply": "2023-10-09T04:31:08.515547Z"
    },
    "papermill": {
     "duration": 85.818182,
     "end_time": "2023-10-09T04:31:08.518296",
     "exception": false,
     "start_time": "2023-10-09T04:29:42.700114",
     "status": "completed"
    },
    "tags": []
   },
   "outputs": [
    {
     "name": "stdout",
     "output_type": "stream",
     "text": [
      "Epoch 1/15\n",
      "1313/1313 [==============================] - 11s 3ms/step - loss: 0.1927 - acc: 0.9436\n",
      "Epoch 2/15\n",
      "1313/1313 [==============================] - 4s 3ms/step - loss: 0.0737 - acc: 0.9774\n",
      "Epoch 3/15\n",
      "1313/1313 [==============================] - 4s 3ms/step - loss: 0.0549 - acc: 0.9830\n",
      "Epoch 4/15\n",
      "1313/1313 [==============================] - 4s 3ms/step - loss: 0.0451 - acc: 0.9861\n",
      "Epoch 5/15\n",
      "1313/1313 [==============================] - 4s 3ms/step - loss: 0.0387 - acc: 0.9881\n",
      "Epoch 6/15\n",
      "1313/1313 [==============================] - 4s 3ms/step - loss: 0.0319 - acc: 0.9897\n",
      "Epoch 7/15\n",
      "1313/1313 [==============================] - 4s 3ms/step - loss: 0.0270 - acc: 0.9921\n",
      "Epoch 8/15\n",
      "1313/1313 [==============================] - 4s 3ms/step - loss: 0.0209 - acc: 0.9937\n",
      "Epoch 9/15\n",
      "1313/1313 [==============================] - 4s 3ms/step - loss: 0.0189 - acc: 0.9940\n",
      "Epoch 10/15\n",
      "1313/1313 [==============================] - 4s 3ms/step - loss: 0.0139 - acc: 0.9958\n",
      "Epoch 11/15\n",
      "1313/1313 [==============================] - 4s 3ms/step - loss: 0.0131 - acc: 0.9961\n",
      "Epoch 12/15\n",
      "1313/1313 [==============================] - 4s 3ms/step - loss: 0.0101 - acc: 0.9969\n",
      "Epoch 13/15\n",
      "1313/1313 [==============================] - 4s 3ms/step - loss: 0.0087 - acc: 0.9971\n",
      "Epoch 14/15\n",
      "1313/1313 [==============================] - 4s 3ms/step - loss: 0.0080 - acc: 0.9974\n",
      "Epoch 15/15\n",
      "1313/1313 [==============================] - 4s 3ms/step - loss: 0.0058 - acc: 0.9984\n"
     ]
    },
    {
     "data": {
      "text/plain": [
       "<keras.callbacks.History at 0x7d41a56c30d0>"
      ]
     },
     "execution_count": 18,
     "metadata": {},
     "output_type": "execute_result"
    }
   ],
   "source": [
    "model = tf.keras.models.Sequential([\n",
    "    tf.keras.layers.Conv2D(filters = 200, kernel_size = (3, 3), input_shape = X_train[0].shape, activation = \"relu\"),\n",
    "    tf.keras.layers.MaxPool2D(pool_size = (3, 3)),\n",
    "    tf.keras.layers.Flatten(),\n",
    "    tf.keras.layers.Dense(units = 10, activation = \"softmax\")\n",
    "])\n",
    "\n",
    "model.compile(loss = \"sparse_categorical_crossentropy\", optimizer = \"adam\", metrics = [\"acc\"])\n",
    "\n",
    "model.fit(X_train, y_train, epochs = 15)"
   ]
  },
  {
   "cell_type": "markdown",
   "id": "79213019",
   "metadata": {
    "papermill": {
     "duration": 0.054324,
     "end_time": "2023-10-09T04:31:08.628503",
     "exception": false,
     "start_time": "2023-10-09T04:31:08.574179",
     "status": "completed"
    },
    "tags": []
   },
   "source": [
    "### Evaluating the model's performance"
   ]
  },
  {
   "cell_type": "code",
   "execution_count": 19,
   "id": "43ca510b",
   "metadata": {
    "execution": {
     "iopub.execute_input": "2023-10-09T04:31:08.740007Z",
     "iopub.status.busy": "2023-10-09T04:31:08.739301Z",
     "iopub.status.idle": "2023-10-09T04:31:14.381517Z",
     "shell.execute_reply": "2023-10-09T04:31:14.380554Z"
    },
    "papermill": {
     "duration": 5.700064,
     "end_time": "2023-10-09T04:31:14.383317",
     "exception": false,
     "start_time": "2023-10-09T04:31:08.683253",
     "status": "completed"
    },
    "tags": []
   },
   "outputs": [
    {
     "name": "stdout",
     "output_type": "stream",
     "text": [
      "1313/1313 [==============================] - 3s 2ms/step - loss: 0.0027 - acc: 0.9995\n"
     ]
    },
    {
     "data": {
      "text/plain": [
       "[0.0026687169447541237, 0.9994761943817139]"
      ]
     },
     "execution_count": 19,
     "metadata": {},
     "output_type": "execute_result"
    }
   ],
   "source": [
    "# Evaluating the model on training set\n",
    "\n",
    "model.evaluate(X_train, y_train)"
   ]
  },
  {
   "cell_type": "code",
   "execution_count": 20,
   "id": "01ebc7f0",
   "metadata": {
    "execution": {
     "iopub.execute_input": "2023-10-09T04:31:14.498954Z",
     "iopub.status.busy": "2023-10-09T04:31:14.498605Z",
     "iopub.status.idle": "2023-10-09T04:31:17.577843Z",
     "shell.execute_reply": "2023-10-09T04:31:17.576943Z"
    },
    "papermill": {
     "duration": 3.138705,
     "end_time": "2023-10-09T04:31:17.579743",
     "exception": false,
     "start_time": "2023-10-09T04:31:14.441038",
     "status": "completed"
    },
    "tags": []
   },
   "outputs": [
    {
     "name": "stdout",
     "output_type": "stream",
     "text": [
      "1313/1313 [==============================] - 2s 1ms/step\n"
     ]
    }
   ],
   "source": [
    "# Making predictions on training set\n",
    "\n",
    "y_train_pred = model.predict(X_train)\n",
    "y_train_pred_labels = np.array([np.argmax(y) for y in y_train_pred])"
   ]
  },
  {
   "cell_type": "code",
   "execution_count": 21,
   "id": "706d52bc",
   "metadata": {
    "execution": {
     "iopub.execute_input": "2023-10-09T04:31:17.699016Z",
     "iopub.status.busy": "2023-10-09T04:31:17.698446Z",
     "iopub.status.idle": "2023-10-09T04:31:18.169326Z",
     "shell.execute_reply": "2023-10-09T04:31:18.168475Z"
    },
    "papermill": {
     "duration": 0.531867,
     "end_time": "2023-10-09T04:31:18.171083",
     "exception": false,
     "start_time": "2023-10-09T04:31:17.639216",
     "status": "completed"
    },
    "tags": []
   },
   "outputs": [
    {
     "name": "stdout",
     "output_type": "stream",
     "text": [
      "tf.Tensor(\n",
      "[[4131    0    0    0    0    0    1    0    0    0]\n",
      " [   0 4684    0    0    0    0    0    0    0    0]\n",
      " [   0    1 4171    1    0    0    0    2    1    1]\n",
      " [   0    0    1 4349    0    0    0    0    0    1]\n",
      " [   0    2    0    0 4066    0    0    1    0    3]\n",
      " [   0    0    0    0    0 3795    0    0    0    0]\n",
      " [   0    0    0    0    0    0 4137    0    0    0]\n",
      " [   0    1    0    0    0    0    0 4400    0    0]\n",
      " [   0    0    1    0    0    1    0    0 4060    1]\n",
      " [   0    0    0    0    1    1    0    1    0 4185]], shape=(10, 10), dtype=int32)\n"
     ]
    },
    {
     "data": {
      "image/png": "[encoded data removed]",
      "text/plain": [
       "<Figure size 640x480 with 2 Axes>"
      ]
     },
     "metadata": {},
     "output_type": "display_data"
    }
   ],
   "source": [
    "# Confusion Matrix\n",
    "\n",
    "cm = tf.math.confusion_matrix(labels = y_train, predictions = y_train_pred_labels)\n",
    "print(cm)\n",
    "\n",
    "sns.heatmap(cm, annot = True)\n",
    "plt.show()"
   ]
  },
  {
   "cell_type": "code",
   "execution_count": 22,
   "id": "0d69df64",
   "metadata": {
    "execution": {
     "iopub.execute_input": "2023-10-09T04:31:18.292903Z",
     "iopub.status.busy": "2023-10-09T04:31:18.292295Z",
     "iopub.status.idle": "2023-10-09T04:31:18.383739Z",
     "shell.execute_reply": "2023-10-09T04:31:18.382491Z"
    },
    "papermill": {
     "duration": 0.154092,
     "end_time": "2023-10-09T04:31:18.385617",
     "exception": false,
     "start_time": "2023-10-09T04:31:18.231525",
     "status": "completed"
    },
    "tags": []
   },
   "outputs": [
    {
     "name": "stdout",
     "output_type": "stream",
     "text": [
      "Accuracy : 0.9994761904761905\n",
      "Precision : 0.9994763775938202\n",
      "Recall : 0.9994761904761905\n",
      "F1 Score : 0.9994761630676724\n"
     ]
    }
   ],
   "source": [
    "# Classification Metrics\n",
    "\n",
    "acc = metrics.accuracy_score(y_train, y_train_pred_labels)\n",
    "precision = metrics.precision_score(y_train, y_train_pred_labels, average = \"weighted\")\n",
    "recall = metrics.recall_score(y_train, y_train_pred_labels, average = \"weighted\")\n",
    "f1 = metrics.f1_score(y_train, y_train_pred_labels, average = \"weighted\")\n",
    "\n",
    "print(f\"Accuracy : {acc}\\nPrecision : {precision}\\nRecall : {recall}\\nF1 Score : {f1}\")"
   ]
  },
  {
   "cell_type": "code",
   "execution_count": 23,
   "id": "0a137818",
   "metadata": {
    "execution": {
     "iopub.execute_input": "2023-10-09T04:31:18.523786Z",
     "iopub.status.busy": "2023-10-09T04:31:18.523447Z",
     "iopub.status.idle": "2023-10-09T04:31:18.611074Z",
     "shell.execute_reply": "2023-10-09T04:31:18.609795Z"
    },
    "papermill": {
     "duration": 0.151682,
     "end_time": "2023-10-09T04:31:18.613087",
     "exception": false,
     "start_time": "2023-10-09T04:31:18.461405",
     "status": "completed"
    },
    "tags": []
   },
   "outputs": [
    {
     "name": "stdout",
     "output_type": "stream",
     "text": [
      "              precision    recall  f1-score   support\n",
      "\n",
      "           0       1.00      1.00      1.00      4132\n",
      "           1       1.00      1.00      1.00      4684\n",
      "           2       1.00      1.00      1.00      4177\n",
      "           3       1.00      1.00      1.00      4351\n",
      "           4       1.00      1.00      1.00      4072\n",
      "           5       1.00      1.00      1.00      3795\n",
      "           6       1.00      1.00      1.00      4137\n",
      "           7       1.00      1.00      1.00      4401\n",
      "           8       1.00      1.00      1.00      4063\n",
      "           9       1.00      1.00      1.00      4188\n",
      "\n",
      "    accuracy                           1.00     42000\n",
      "   macro avg       1.00      1.00      1.00     42000\n",
      "weighted avg       1.00      1.00      1.00     42000\n",
      "\n"
     ]
    }
   ],
   "source": [
    "# Classification Report\n",
    "\n",
    "clf_report = metrics.classification_report(y_train, y_train_pred_labels)\n",
    "print(clf_report)"
   ]
  },
  {
   "cell_type": "markdown",
   "id": "d434f948",
   "metadata": {
    "papermill": {
     "duration": 0.061031,
     "end_time": "2023-10-09T04:31:18.734894",
     "exception": false,
     "start_time": "2023-10-09T04:31:18.673863",
     "status": "completed"
    },
    "tags": []
   },
   "source": [
    "### Testing the model"
   ]
  },
  {
   "cell_type": "code",
   "execution_count": 24,
   "id": "c642fcb2",
   "metadata": {
    "execution": {
     "iopub.execute_input": "2023-10-09T04:31:18.857942Z",
     "iopub.status.busy": "2023-10-09T04:31:18.856974Z",
     "iopub.status.idle": "2023-10-09T04:31:20.599761Z",
     "shell.execute_reply": "2023-10-09T04:31:20.598818Z"
    },
    "papermill": {
     "duration": 1.807785,
     "end_time": "2023-10-09T04:31:20.601581",
     "exception": false,
     "start_time": "2023-10-09T04:31:18.793796",
     "status": "completed"
    },
    "tags": []
   },
   "outputs": [
    {
     "data": {
      "text/html": [
       "<div>\n",
       "<style scoped>\n",
       "    .dataframe tbody tr th:only-of-type {\n",
       "        vertical-align: middle;\n",
       "    }\n",
       "\n",
       "    .dataframe tbody tr th {\n",
       "        vertical-align: top;\n",
       "    }\n",
       "\n",
       "    .dataframe thead th {\n",
       "        text-align: right;\n",
       "    }\n",
       "</style>\n",
       "<table border=\"1\" class=\"dataframe\">\n",
       "  <thead>\n",
       "    <tr style=\"text-align: right;\">\n",
       "      <th></th>\n",
       "      <th>pixel0</th>\n",
       "      <th>pixel1</th>\n",
       "      <th>pixel2</th>\n",
       "      <th>pixel3</th>\n",
       "      <th>pixel4</th>\n",
       "      <th>pixel5</th>\n",
       "      <th>pixel6</th>\n",
       "      <th>pixel7</th>\n",
       "      <th>pixel8</th>\n",
       "      <th>pixel9</th>\n",
       "      <th>...</th>\n",
       "      <th>pixel774</th>\n",
       "      <th>pixel775</th>\n",
       "      <th>pixel776</th>\n",
       "      <th>pixel777</th>\n",
       "      <th>pixel778</th>\n",
       "      <th>pixel779</th>\n",
       "      <th>pixel780</th>\n",
       "      <th>pixel781</th>\n",
       "      <th>pixel782</th>\n",
       "      <th>pixel783</th>\n",
       "    </tr>\n",
       "  </thead>\n",
       "  <tbody>\n",
       "    <tr>\n",
       "      <th>0</th>\n",
       "      <td>0</td>\n",
       "      <td>0</td>\n",
       "      <td>0</td>\n",
       "      <td>0</td>\n",
       "      <td>0</td>\n",
       "      <td>0</td>\n",
       "      <td>0</td>\n",
       "      <td>0</td>\n",
       "      <td>0</td>\n",
       "      <td>0</td>\n",
       "      <td>...</td>\n",
       "      <td>0</td>\n",
       "      <td>0</td>\n",
       "      <td>0</td>\n",
       "      <td>0</td>\n",
       "      <td>0</td>\n",
       "      <td>0</td>\n",
       "      <td>0</td>\n",
       "      <td>0</td>\n",
       "      <td>0</td>\n",
       "      <td>0</td>\n",
       "    </tr>\n",
       "    <tr>\n",
       "      <th>1</th>\n",
       "      <td>0</td>\n",
       "      <td>0</td>\n",
       "      <td>0</td>\n",
       "      <td>0</td>\n",
       "      <td>0</td>\n",
       "      <td>0</td>\n",
       "      <td>0</td>\n",
       "      <td>0</td>\n",
       "      <td>0</td>\n",
       "      <td>0</td>\n",
       "      <td>...</td>\n",
       "      <td>0</td>\n",
       "      <td>0</td>\n",
       "      <td>0</td>\n",
       "      <td>0</td>\n",
       "      <td>0</td>\n",
       "      <td>0</td>\n",
       "      <td>0</td>\n",
       "      <td>0</td>\n",
       "      <td>0</td>\n",
       "      <td>0</td>\n",
       "    </tr>\n",
       "    <tr>\n",
       "      <th>2</th>\n",
       "      <td>0</td>\n",
       "      <td>0</td>\n",
       "      <td>0</td>\n",
       "      <td>0</td>\n",
       "      <td>0</td>\n",
       "      <td>0</td>\n",
       "      <td>0</td>\n",
       "      <td>0</td>\n",
       "      <td>0</td>\n",
       "      <td>0</td>\n",
       "      <td>...</td>\n",
       "      <td>0</td>\n",
       "      <td>0</td>\n",
       "      <td>0</td>\n",
       "      <td>0</td>\n",
       "      <td>0</td>\n",
       "      <td>0</td>\n",
       "      <td>0</td>\n",
       "      <td>0</td>\n",
       "      <td>0</td>\n",
       "      <td>0</td>\n",
       "    </tr>\n",
       "    <tr>\n",
       "      <th>3</th>\n",
       "      <td>0</td>\n",
       "      <td>0</td>\n",
       "      <td>0</td>\n",
       "      <td>0</td>\n",
       "      <td>0</td>\n",
       "      <td>0</td>\n",
       "      <td>0</td>\n",
       "      <td>0</td>\n",
       "      <td>0</td>\n",
       "      <td>0</td>\n",
       "      <td>...</td>\n",
       "      <td>0</td>\n",
       "      <td>0</td>\n",
       "      <td>0</td>\n",
       "      <td>0</td>\n",
       "      <td>0</td>\n",
       "      <td>0</td>\n",
       "      <td>0</td>\n",
       "      <td>0</td>\n",
       "      <td>0</td>\n",
       "      <td>0</td>\n",
       "    </tr>\n",
       "    <tr>\n",
       "      <th>4</th>\n",
       "      <td>0</td>\n",
       "      <td>0</td>\n",
       "      <td>0</td>\n",
       "      <td>0</td>\n",
       "      <td>0</td>\n",
       "      <td>0</td>\n",
       "      <td>0</td>\n",
       "      <td>0</td>\n",
       "      <td>0</td>\n",
       "      <td>0</td>\n",
       "      <td>...</td>\n",
       "      <td>0</td>\n",
       "      <td>0</td>\n",
       "      <td>0</td>\n",
       "      <td>0</td>\n",
       "      <td>0</td>\n",
       "      <td>0</td>\n",
       "      <td>0</td>\n",
       "      <td>0</td>\n",
       "      <td>0</td>\n",
       "      <td>0</td>\n",
       "    </tr>\n",
       "  </tbody>\n",
       "</table>\n",
       "<p>5 rows × 784 columns</p>\n",
       "</div>"
      ],
      "text/plain": [
       "   pixel0  pixel1  pixel2  pixel3  pixel4  pixel5  pixel6  pixel7  pixel8  \\\n",
       "0       0       0       0       0       0       0       0       0       0   \n",
       "1       0       0       0       0       0       0       0       0       0   \n",
       "2       0       0       0       0       0       0       0       0       0   \n",
       "3       0       0       0       0       0       0       0       0       0   \n",
       "4       0       0       0       0       0       0       0       0       0   \n",
       "\n",
       "   pixel9  ...  pixel774  pixel775  pixel776  pixel777  pixel778  pixel779  \\\n",
       "0       0  ...         0         0         0         0         0         0   \n",
       "1       0  ...         0         0         0         0         0         0   \n",
       "2       0  ...         0         0         0         0         0         0   \n",
       "3       0  ...         0         0         0         0         0         0   \n",
       "4       0  ...         0         0         0         0         0         0   \n",
       "\n",
       "   pixel780  pixel781  pixel782  pixel783  \n",
       "0         0         0         0         0  \n",
       "1         0         0         0         0  \n",
       "2         0         0         0         0  \n",
       "3         0         0         0         0  \n",
       "4         0         0         0         0  \n",
       "\n",
       "[5 rows x 784 columns]"
      ]
     },
     "execution_count": 24,
     "metadata": {},
     "output_type": "execute_result"
    }
   ],
   "source": [
    "df = pd.read_csv(paths[2])\n",
    "df.head()"
   ]
  },
  {
   "cell_type": "code",
   "execution_count": 25,
   "id": "d520b053",
   "metadata": {
    "execution": {
     "iopub.execute_input": "2023-10-09T04:31:20.725827Z",
     "iopub.status.busy": "2023-10-09T04:31:20.725500Z",
     "iopub.status.idle": "2023-10-09T04:31:20.781719Z",
     "shell.execute_reply": "2023-10-09T04:31:20.780604Z"
    },
    "papermill": {
     "duration": 0.121673,
     "end_time": "2023-10-09T04:31:20.784112",
     "exception": false,
     "start_time": "2023-10-09T04:31:20.662439",
     "status": "completed"
    },
    "tags": []
   },
   "outputs": [],
   "source": [
    "X_test = df.values\n",
    "X_test = X_test.reshape(X_test.shape[0], 28, 28, 1) / 255"
   ]
  },
  {
   "cell_type": "code",
   "execution_count": 26,
   "id": "5fc0bc0c",
   "metadata": {
    "execution": {
     "iopub.execute_input": "2023-10-09T04:31:20.915859Z",
     "iopub.status.busy": "2023-10-09T04:31:20.915560Z",
     "iopub.status.idle": "2023-10-09T04:31:23.232603Z",
     "shell.execute_reply": "2023-10-09T04:31:23.231716Z"
    },
    "papermill": {
     "duration": 2.379067,
     "end_time": "2023-10-09T04:31:23.234582",
     "exception": false,
     "start_time": "2023-10-09T04:31:20.855515",
     "status": "completed"
    },
    "tags": []
   },
   "outputs": [
    {
     "name": "stdout",
     "output_type": "stream",
     "text": [
      "875/875 [==============================] - 1s 1ms/step\n"
     ]
    }
   ],
   "source": [
    "# Making predictions on test set\n",
    "\n",
    "y_test_pred = model.predict(X_test)\n",
    "y_test_pred_labels = np.array([np.argmax(y) for y in y_test_pred])"
   ]
  },
  {
   "cell_type": "code",
   "execution_count": 27,
   "id": "a339509b",
   "metadata": {
    "execution": {
     "iopub.execute_input": "2023-10-09T04:31:23.365407Z",
     "iopub.status.busy": "2023-10-09T04:31:23.365090Z",
     "iopub.status.idle": "2023-10-09T04:31:23.474194Z",
     "shell.execute_reply": "2023-10-09T04:31:23.473339Z"
    },
    "papermill": {
     "duration": 0.177476,
     "end_time": "2023-10-09T04:31:23.476173",
     "exception": false,
     "start_time": "2023-10-09T04:31:23.298697",
     "status": "completed"
    },
    "tags": []
   },
   "outputs": [],
   "source": [
    "path = os.path.join(\"/kaggle\", \"working\", \"submission.csv\")\n",
    "\n",
    "result = pd.DataFrame(np.c_[np.arange(1, len(y_test_pred_labels) + 1), y_test_pred_labels], columns = ['ImageId', 'Label'])\n",
    "result.to_csv(path, index = False)"
   ]
  },
  {
   "cell_type": "code",
   "execution_count": 28,
   "id": "1b0508e9",
   "metadata": {
    "execution": {
     "iopub.execute_input": "2023-10-09T04:31:23.600972Z",
     "iopub.status.busy": "2023-10-09T04:31:23.600053Z",
     "iopub.status.idle": "2023-10-09T04:31:23.612697Z",
     "shell.execute_reply": "2023-10-09T04:31:23.611711Z"
    },
    "papermill": {
     "duration": 0.075381,
     "end_time": "2023-10-09T04:31:23.614352",
     "exception": false,
     "start_time": "2023-10-09T04:31:23.538971",
     "status": "completed"
    },
    "tags": []
   },
   "outputs": [
    {
     "data": {
      "text/html": [
       "<div>\n",
       "<style scoped>\n",
       "    .dataframe tbody tr th:only-of-type {\n",
       "        vertical-align: middle;\n",
       "    }\n",
       "\n",
       "    .dataframe tbody tr th {\n",
       "        vertical-align: top;\n",
       "    }\n",
       "\n",
       "    .dataframe thead th {\n",
       "        text-align: right;\n",
       "    }\n",
       "</style>\n",
       "<table border=\"1\" class=\"dataframe\">\n",
       "  <thead>\n",
       "    <tr style=\"text-align: right;\">\n",
       "      <th></th>\n",
       "      <th>ImageId</th>\n",
       "      <th>Label</th>\n",
       "    </tr>\n",
       "  </thead>\n",
       "  <tbody>\n",
       "    <tr>\n",
       "      <th>0</th>\n",
       "      <td>1</td>\n",
       "      <td>2</td>\n",
       "    </tr>\n",
       "    <tr>\n",
       "      <th>1</th>\n",
       "      <td>2</td>\n",
       "      <td>0</td>\n",
       "    </tr>\n",
       "    <tr>\n",
       "      <th>2</th>\n",
       "      <td>3</td>\n",
       "      <td>9</td>\n",
       "    </tr>\n",
       "    <tr>\n",
       "      <th>3</th>\n",
       "      <td>4</td>\n",
       "      <td>0</td>\n",
       "    </tr>\n",
       "    <tr>\n",
       "      <th>4</th>\n",
       "      <td>5</td>\n",
       "      <td>3</td>\n",
       "    </tr>\n",
       "  </tbody>\n",
       "</table>\n",
       "</div>"
      ],
      "text/plain": [
       "   ImageId  Label\n",
       "0        1      2\n",
       "1        2      0\n",
       "2        3      9\n",
       "3        4      0\n",
       "4        5      3"
      ]
     },
     "execution_count": 28,
     "metadata": {},
     "output_type": "execute_result"
    }
   ],
   "source": [
    "r = pd.read_csv(path)\n",
    "r.head()"
   ]
  }
 ],
 "metadata": {
  "kernelspec": {
   "display_name": "Python 3",
   "language": "python",
   "name": "python3"
  },
  "language_info": {
   "codemirror_mode": {
    "name": "ipython",
    "version": 3
   },
   "file_extension": ".py",
   "mimetype": "text/x-python",
   "name": "python",
   "nbconvert_exporter": "python",
   "pygments_lexer": "ipython3",
   "version": "3.10.12"
  },
  "papermill": {
   "default_parameters": {},
   "duration": 126.433226,
   "end_time": "2023-10-09T04:31:26.941632",
   "environment_variables": {},
   "exception": null,
   "input_path": "__notebook__.ipynb",
   "output_path": "__notebook__.ipynb",
   "parameters": {},
   "start_time": "2023-10-09T04:29:20.508406",
   "version": "2.4.0"
  }
 },
 "nbformat": 4,
 "nbformat_minor": 5
}
